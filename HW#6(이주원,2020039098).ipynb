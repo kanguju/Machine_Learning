{
  "cells": [
    {
      "cell_type": "markdown",
      "metadata": {
        "id": "kQbe2xkari4s"
      },
      "source": [
        "HW#6 신경망모델을 이용한 분류"
      ]
    },
    {
      "cell_type": "code",
      "execution_count": 7,
      "metadata": {
        "colab": {
          "base_uri": "https://localhost:8080/"
        },
        "id": "pGvwUthQrmEH",
        "outputId": "f71ba0d5-0308-42d9-88b3-cc51de189833"
      },
      "outputs": [
        {
          "name": "stdout",
          "output_type": "stream",
          "text": [
            "Mounted at /content/drive\n",
            "78/78 [==============================] - 0s 1ms/step\n",
            "모델의 정확도: 0.8751\n"
          ]
        }
      ],
      "source": [
        "# 필요한 라이브러리를 불러옵니다\n",
        "import pandas as pd\n",
        "from sklearn.model_selection import train_test_split\n",
        "from sklearn.preprocessing import StandardScaler, OneHotEncoder\n",
        "from sklearn.compose import ColumnTransformer\n",
        "from sklearn.pipeline import Pipeline\n",
        "from tensorflow.keras.models import Sequential\n",
        "from tensorflow.keras.layers import Dense\n",
        "from sklearn.metrics import accuracy_score\n",
        "\n",
        "# Google Drive 마운트\n",
        "from google.colab import drive\n",
        "drive.mount('/content/drive', force_remount=True)\n",
        "\n",
        "# 데이터 로드\n",
        "data_path = '/content/drive/MyDrive/Colab Notebooks/shopping_data.csv'\n",
        "data = pd.read_csv(data_path)\n",
        "\n",
        "# 데이터의 'Revenue' 열이 boolean 타입인지 확인하고 정수형으로 변환합니다\n",
        "if data['Revenue'].dtype != 'int':\n",
        "    data['Revenue'] = data['Revenue'].astype(int)\n",
        "\n",
        "# 범주형과 수치형 변수를 구분\n",
        "categorical_features = ['Month', 'VisitorType']\n",
        "numeric_features = data.select_dtypes(include=['int64', 'float64']).columns.tolist()\n",
        "numeric_features.remove('Revenue')  # 타겟 변수 제외\n",
        "\n",
        "# 전처리 파이프라인 생성\n",
        "numeric_transformer = StandardScaler()\n",
        "categorical_transformer = OneHotEncoder(drop='first')\n",
        "\n",
        "preprocessor = ColumnTransformer(\n",
        "    transformers=[\n",
        "        ('num', numeric_transformer, numeric_features),\n",
        "        ('cat', categorical_transformer, categorical_features)\n",
        "    ])\n",
        "\n",
        "# 데이터 분할\n",
        "X = data.drop('Revenue', axis=1)\n",
        "y = data['Revenue']\n",
        "X_train, X_test, y_train, y_test = train_test_split(X, y, test_size=0.2, random_state=42)\n",
        "\n",
        "# 파이프라인에 전처리기 포함\n",
        "pipeline = Pipeline(steps=[('preprocessor', preprocessor)])\n",
        "\n",
        "# 전처리기 훈련\n",
        "X_train_transformed = pipeline.fit_transform(X_train)\n",
        "\n",
        "# 순차모델 구성, 활성화함수 적용, 뉴런의갯수 128(입력층,은닉층) -> 64(은닉층)  -> 1(출력층)\n",
        "model = Sequential([\n",
        "    Dense(128, activation='relu', input_shape=[X_train_transformed.shape[1]]),\n",
        "    Dense(64, activation='relu'),\n",
        "    Dense(1, activation='sigmoid')\n",
        "])\n",
        "\n",
        "model.compile(optimizer='adam', loss='binary_crossentropy', metrics=['accuracy'])\n",
        "\n",
        "# 모델 훈련\n",
        "model.fit(X_train_transformed, y_train, epochs=100, verbose=0)\n",
        "\n",
        "# 테스트 데이터 변환\n",
        "X_test_transformed = pipeline.transform(X_test)\n",
        "\n",
        "# 예측 및 평가\n",
        "y_pred = model.predict(X_test_transformed)\n",
        "y_pred = (y_pred > 0.5).astype(int)\n",
        "accuracy = accuracy_score(y_test, y_pred)\n",
        "\n",
        "print(f'모델의 정확도: {accuracy:.4f}')\n"
      ]
    }
  ],
  "metadata": {
    "colab": {
      "provenance": []
    },
    "kernelspec": {
      "display_name": "Python 3",
      "name": "python3"
    },
    "language_info": {
      "name": "python"
    }
  },
  "nbformat": 4,
  "nbformat_minor": 0
}
